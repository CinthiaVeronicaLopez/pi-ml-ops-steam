{
 "cells": [
  {
   "cell_type": "code",
   "execution_count": 2,
   "metadata": {},
   "outputs": [],
   "source": [
    "# Importacion de librerias\n",
    "import pandas as pd\n",
    "import numpy as np\n",
    "import json\n",
    "import re\n",
    "import gzip\n",
    "import ast\n",
    "import warnings\n",
    "from textblob import TextBlob\n",
    "warnings.filterwarnings('ignore')"
   ]
  },
  {
   "cell_type": "code",
   "execution_count": 9,
   "metadata": {},
   "outputs": [
    {
     "name": "stdout",
     "output_type": "stream",
     "text": [
      "importando users_items...\n"
     ]
    },
    {
     "ename": "KeyboardInterrupt",
     "evalue": "",
     "output_type": "error",
     "traceback": [
      "\u001b[1;31m---------------------------------------------------------------------------\u001b[0m",
      "\u001b[1;31mKeyboardInterrupt\u001b[0m                         Traceback (most recent call last)",
      "\u001b[1;32md:\\projects\\py\\pi-ml-ops-steam\\etl.ipynb Cell 2\u001b[0m line \u001b[0;36m6\n\u001b[0;32m      <a href='vscode-notebook-cell:/d%3A/projects/py/pi-ml-ops-steam/etl.ipynb#W3sZmlsZQ%3D%3D?line=3'>4</a>\u001b[0m \u001b[39mprint\u001b[39m(\u001b[39m\"\u001b[39m\u001b[39mimportando users_items...\u001b[39m\u001b[39m\"\u001b[39m)\n\u001b[0;32m      <a href='vscode-notebook-cell:/d%3A/projects/py/pi-ml-ops-steam/etl.ipynb#W3sZmlsZQ%3D%3D?line=4'>5</a>\u001b[0m \u001b[39mfor\u001b[39;00m line \u001b[39min\u001b[39;00m f\u001b[39m.\u001b[39mreadlines():        \n\u001b[1;32m----> <a href='vscode-notebook-cell:/d%3A/projects/py/pi-ml-ops-steam/etl.ipynb#W3sZmlsZQ%3D%3D?line=5'>6</a>\u001b[0m     data_dic \u001b[39m=\u001b[39m ast\u001b[39m.\u001b[39;49mliteral_eval(line)\n\u001b[0;32m      <a href='vscode-notebook-cell:/d%3A/projects/py/pi-ml-ops-steam/etl.ipynb#W3sZmlsZQ%3D%3D?line=6'>7</a>\u001b[0m     user_id \u001b[39m=\u001b[39m data_dic[\u001b[39m'\u001b[39m\u001b[39muser_id\u001b[39m\u001b[39m'\u001b[39m]\n\u001b[0;32m      <a href='vscode-notebook-cell:/d%3A/projects/py/pi-ml-ops-steam/etl.ipynb#W3sZmlsZQ%3D%3D?line=7'>8</a>\u001b[0m     \u001b[39m# items_count = data_dic['items_count']\u001b[39;00m\n",
      "File \u001b[1;32mc:\\Users\\cinth\\AppData\\Local\\Programs\\Python\\Python310\\lib\\ast.py:62\u001b[0m, in \u001b[0;36mliteral_eval\u001b[1;34m(node_or_string)\u001b[0m\n\u001b[0;32m     55\u001b[0m \u001b[39m\u001b[39m\u001b[39m\"\"\"\u001b[39;00m\n\u001b[0;32m     56\u001b[0m \u001b[39mSafely evaluate an expression node or a string containing a Python\u001b[39;00m\n\u001b[0;32m     57\u001b[0m \u001b[39mexpression.  The string or node provided may only consist of the following\u001b[39;00m\n\u001b[0;32m     58\u001b[0m \u001b[39mPython literal structures: strings, bytes, numbers, tuples, lists, dicts,\u001b[39;00m\n\u001b[0;32m     59\u001b[0m \u001b[39msets, booleans, and None.\u001b[39;00m\n\u001b[0;32m     60\u001b[0m \u001b[39m\"\"\"\u001b[39;00m\n\u001b[0;32m     61\u001b[0m \u001b[39mif\u001b[39;00m \u001b[39misinstance\u001b[39m(node_or_string, \u001b[39mstr\u001b[39m):\n\u001b[1;32m---> 62\u001b[0m     node_or_string \u001b[39m=\u001b[39m parse(node_or_string\u001b[39m.\u001b[39;49mlstrip(\u001b[39m\"\u001b[39;49m\u001b[39m \u001b[39;49m\u001b[39m\\t\u001b[39;49;00m\u001b[39m\"\u001b[39;49m), mode\u001b[39m=\u001b[39;49m\u001b[39m'\u001b[39;49m\u001b[39meval\u001b[39;49m\u001b[39m'\u001b[39;49m)\n\u001b[0;32m     63\u001b[0m \u001b[39mif\u001b[39;00m \u001b[39misinstance\u001b[39m(node_or_string, Expression):\n\u001b[0;32m     64\u001b[0m     node_or_string \u001b[39m=\u001b[39m node_or_string\u001b[39m.\u001b[39mbody\n",
      "\u001b[1;31mKeyboardInterrupt\u001b[0m: "
     ]
    }
   ],
   "source": [
    "# Importar users_items\n",
    "rows = []\n",
    "with gzip.open('./assets/users_items.json.gz', 'rt', encoding='utf8') as f:\n",
    "    print(\"importando users_items...\")\n",
    "    for line in f.readlines():        \n",
    "        data_dic = ast.literal_eval(line)\n",
    "        user_id = data_dic['user_id']\n",
    "        # items_count = data_dic['items_count']\n",
    "        steam_id = data_dic['steam_id']\n",
    "        # user_url = data_dic['user_url']\n",
    "        items_list = data_dic['items']\n",
    "        data_list = []\n",
    "        for items in items_list:\n",
    "            data = {\n",
    "                'user_id': user_id, \n",
    "                # items_count, \n",
    "                'steam_id': steam_id\n",
    "                #, user_url\n",
    "            }     \n",
    "            for key, value in items.items():\n",
    "                data.update({key:value})\n",
    "            rows.append(data)\n",
    "# print(\"insertamos los datos en un DataFrame...\")\n",
    "users_items = pd.DataFrame(rows)\n",
    "users_items.to_csv('./assets/users_items.csv', index=False)"
   ]
  },
  {
   "cell_type": "code",
   "execution_count": 99,
   "metadata": {},
   "outputs": [
    {
     "name": "stdout",
     "output_type": "stream",
     "text": [
      "importando user_reviews...\n"
     ]
    }
   ],
   "source": [
    "# Importar users_reviews\n",
    "rows = []\n",
    "with gzip.open('./assets/user_reviews.json.gz', 'rt', encoding='utf8') as f:\n",
    "    print(\"importando user_reviews...\")\n",
    "    for line in f.readlines():        \n",
    "        data_dic = ast.literal_eval(line)\n",
    "        user_id = data_dic['user_id']\n",
    "        # user_url = data_dic['user_url']\n",
    "        reviews_list = data_dic['reviews']\n",
    "        data_list = []\n",
    "        for reviews in reviews_list:\n",
    "            # analisis de sentimientos\n",
    "            if reviews[\"review\"] == \"\":\n",
    "                sentiment_analysis = 1\n",
    "            else:\n",
    "                review_text = reviews[\"review\"]\n",
    "                if review_text == \"\":\n",
    "                    sentiment_analysis = 1\n",
    "                else:\n",
    "                    blob = TextBlob(review_text)\n",
    "                    sentiment_polarity = blob.sentiment.polarity\n",
    "                    if sentiment_polarity < -0.1:\n",
    "                        sentiment_analysis = 0\n",
    "                    elif sentiment_polarity > 0.1:\n",
    "                        sentiment_analysis = 2\n",
    "                    else:\n",
    "                        sentiment_analysis = 1\n",
    "            data = {\n",
    "                'user_id': user_id, \n",
    "                # user_url,\n",
    "                'recommend': reviews[\"recommend\"],\n",
    "                'sentiment': sentiment_analysis,\n",
    "                'item_id': reviews['item_id'],\n",
    "                'review': reviews['review'],\n",
    "            }  \n",
    "            # agregar todos los campos de reviews   \n",
    "            # for key, value in reviews.items():\n",
    "            #     data.update({key:value})\n",
    "            rows.append(data)\n",
    "users_reviews = pd.DataFrame(rows)\n",
    "users_reviews.to_csv('./assets/users_reviews.csv', index=False)"
   ]
  },
  {
   "cell_type": "code",
   "execution_count": null,
   "metadata": {},
   "outputs": [],
   "source": [
    "# Importar steam_games\n",
    "years = range(1950, 2024)\n",
    "rows = []\n",
    "with gzip.open('./assets/steam_games.json.gz', 'rt', encoding='utf8') as f:\n",
    "    print(\"importando steam_games...\")\n",
    "    for line in f.readlines():\n",
    "        # Lee el archivo JSON\n",
    "        data_json = json.loads(line)\n",
    "        # Convierte el JSON en un diccionario\n",
    "        data_dic = dict(data_json)\n",
    "        # si id es NaN termino la ejecución\n",
    "        if str(data_dic['id']) != \"nan\":\n",
    "            data={\n",
    "                'publisher': data_dic['publisher'],\n",
    "                'genres': data_dic['genres'],\n",
    "                'app_name': data_dic['app_name'],\n",
    "                'release_date': data_dic['release_date'],\n",
    "                'price': data_dic['price'],\n",
    "                'item_id': data_dic['id'],\n",
    "            }\n",
    "            for key, value in data_dic.items():        \n",
    "                # si el precio no es float lo reemplazo por 0\n",
    "                if key == \"price\": \n",
    "                    if isinstance(value, float) and value > 0:\n",
    "                        data.update({key: value})\n",
    "                    else:\n",
    "                        data.update({key: 0})\n",
    "                # si el año no esta en el rango lo reemplazo por None\n",
    "                if key == \"release_date\":\n",
    "                    if not isinstance(value, str):\n",
    "                        data.update({key:None})                     \n",
    "                    else:\n",
    "                        # Buscar el año dentro de la cadena de texto utilizando una expresión regular\n",
    "                        patron = r\"\\b(19[5-9]\\d|20\\d{2})\\b\"\n",
    "                        match = re.search(patron, value)\n",
    "                        # Si se encuentra un año dentro del rango, reemplazarlo por el mismo\n",
    "                        if match:\n",
    "                            year = int(match.group(0))\n",
    "                            if year in years:\n",
    "                                data.update({key:year})\n",
    "                            else:\n",
    "                                data.update({key:None})\n",
    "                        else:\n",
    "                            data.update({key:None})\n",
    "                # si esta en data y es nan lo reemplazo por None\n",
    "                if key in data and str(value).find(\"nan\") != -1:\n",
    "                    data.update({key:None})\n",
    "            rows.append(data)\n",
    "steam_games = pd.DataFrame(rows)\n",
    "steam_games.to_csv('./assets/steam_games.csv', index=False)"
   ]
  },
  {
   "cell_type": "code",
   "execution_count": 100,
   "metadata": {},
   "outputs": [
    {
     "name": "stdout",
     "output_type": "stream",
     "text": [
      "importando users_items...\n",
      "importando users_reviews...\n",
      "importando steam_games...\n",
      "unificando los dataframes...\n",
      "guardando el dataframe en un archivo csv...\n",
      "termino la importación!!!\n"
     ]
    }
   ],
   "source": [
    "# Importar users_items de csv\n",
    "print(\"importando users_items...\")\n",
    "users_items = pd.read_csv('./assets/users_items.csv')\n",
    "# Importar users_reviews de csv\n",
    "print(\"importando users_reviews...\")\n",
    "users_reviews = pd.read_csv('./assets/users_reviews.csv')\n",
    "# Importar steam_games de csv\n",
    "print(\"importando steam_games...\")\n",
    "steam_games = pd.read_csv('./assets/steam_games.csv')\n",
    "# uno los tres dataframes\n",
    "print(\"unificando los dataframes...\")\n",
    "df = pd.merge(steam_games, users_items, on=['item_id'], how='inner')\n",
    "df = pd.merge(df, users_reviews, on=['user_id'], how='inner')\n",
    "# guardo el dataframe en un archivo csv\n",
    "print(\"guardando el dataframe en un archivo csv...\")\n",
    "df.to_csv('./assets/steam.csv', index=False)\n",
    "print(\"termino la importación!!!\")"
   ]
  },
  {
   "cell_type": "code",
   "execution_count": 5,
   "metadata": {},
   "outputs": [
    {
     "name": "stdout",
     "output_type": "stream",
     "text": [
      "importando steam...\n",
      "Mostrar los primeros 5 registros...\n",
      "             publisher                         genres              app_name  \\\n",
      "0  Stainless Games Ltd  ['Action', 'Indie', 'Racing']  Carmageddon Max Pack   \n",
      "1  Stainless Games Ltd  ['Action', 'Indie', 'Racing']  Carmageddon Max Pack   \n",
      "2  Stainless Games Ltd  ['Action', 'Indie', 'Racing']  Carmageddon Max Pack   \n",
      "3  Stainless Games Ltd  ['Action', 'Indie', 'Racing']  Carmageddon Max Pack   \n",
      "4  Stainless Games Ltd  ['Action', 'Indie', 'Racing']  Carmageddon Max Pack   \n",
      "\n",
      "   release_date  price  item_id_x   user_id           steam_id  \\\n",
      "0        1997.0   9.99     282010  UTNerd24  76561198053985682   \n",
      "1        1997.0   9.99     282010  UTNerd24  76561198053985682   \n",
      "2        1997.0   9.99     282010  UTNerd24  76561198053985682   \n",
      "3        1997.0   9.99     282010  UTNerd24  76561198053985682   \n",
      "4        1997.0   9.99     282010  UTNerd24  76561198053985682   \n",
      "\n",
      "              item_name  playtime_forever  playtime_2weeks  recommend  \\\n",
      "0  Carmageddon Max Pack                 5                0       True   \n",
      "1  Carmageddon Max Pack                 5                0       True   \n",
      "2  Carmageddon Max Pack                 5                0       True   \n",
      "3  Carmageddon Max Pack                 5                0       True   \n",
      "4  Carmageddon Max Pack                 5                0       True   \n",
      "\n",
      "   sentiment  item_id_y                                             review  \n",
      "0          1     244210  This game has TRUE potential to be something o...  \n",
      "1          0        440  Can't wait for this game to come out of Early ...  \n",
      "2          2     376920  Remember those Flash Games you would play at s...  \n",
      "3          1     257750  Because of the ability to kill your friends in...  \n",
      "4          0     221910     I can only sum this game up in one word:WHAT!?  \n"
     ]
    }
   ],
   "source": [
    "# Importar steam\n",
    "print(\"importando steam...\")\n",
    "data = pd.read_csv(\"./assets/steam.csv.gz\", compression='gzip')\n",
    "# Mostrar los primeros 5 registros\n",
    "print(\"Mostrar los primeros 5 registros...\")\n",
    "print(data.head())\n"
   ]
  },
  {
   "cell_type": "code",
   "execution_count": 27,
   "metadata": {},
   "outputs": [
    {
     "data": {
      "text/plain": [
       "{'Año de lanzamiento con más horas jugadas para Género': 'Action', 'Año': 2012}"
      ]
     },
     "execution_count": 27,
     "metadata": {},
     "output_type": "execute_result"
    }
   ],
   "source": [
    "# API\n",
    "def PlayTimeGenre(genre: str):\n",
    "    # Filtramos por genero\n",
    "    data_genres = data.dropna(subset=['genres'])\n",
    "    data_genres = data_genres[data_genres['genres'].str.contains(genre)]\n",
    "    # Agrupamos por año y sumamos las horas jugadas\n",
    "    data_genres = data_genres.groupby('release_date')['playtime_forever'].sum().reset_index()\n",
    "    # Obtenemos el año con mayor horas jugadas\n",
    "    year = int(data_genres[data_genres['playtime_forever'] == data_genres['playtime_forever'].max()]['release_date'].values[0])    \n",
    "    return {'Año de lanzamiento con más horas jugadas para Género': genre, 'Año': year}\n",
    "PlayTimeGenre('Action')"
   ]
  },
  {
   "cell_type": "code",
   "execution_count": 71,
   "metadata": {},
   "outputs": [
    {
     "name": "stdout",
     "output_type": "stream",
     "text": [
      "'Usuario con más horas jugadas para Género Action': Sp3ctre, 'Horas jugadas': [{'release_date': 1993.0, 'playtime_forever': 0}, {'release_date': 1995.0, 'playtime_forever': 1736}, {'release_date': 1996.0, 'playtime_forever': 0}, {'release_date': 1998.0, 'playtime_forever': 0}, {'release_date': 1999.0, 'playtime_forever': 352}, {'release_date': 2000.0, 'playtime_forever': 565152}, {'release_date': 2001.0, 'playtime_forever': 104}, {'release_date': 2002.0, 'playtime_forever': 1904}, {'release_date': 2003.0, 'playtime_forever': 61384}, {'release_date': 2004.0, 'playtime_forever': 1019288}, {'release_date': 2005.0, 'playtime_forever': 170712}, {'release_date': 2006.0, 'playtime_forever': 7168}, {'release_date': 2007.0, 'playtime_forever': 902272}, {'release_date': 2008.0, 'playtime_forever': 1792}, {'release_date': 2009.0, 'playtime_forever': 866608}, {'release_date': 2010.0, 'playtime_forever': 624664}, {'release_date': 2011.0, 'playtime_forever': 1239168}, {'release_date': 2012.0, 'playtime_forever': 3026368}, {'release_date': 2013.0, 'playtime_forever': 963688}, {'release_date': 2014.0, 'playtime_forever': 1045528}, {'release_date': 2015.0, 'playtime_forever': 2500088}, {'release_date': 2016.0, 'playtime_forever': 236608}, {'release_date': 2017.0, 'playtime_forever': 346616}, {'release_date': 'Unknown', 'playtime_forever': 13256}]\n"
     ]
    }
   ],
   "source": [
    "def UserForGenre(genre: str):\n",
    "    # Eliminar generos nulos\n",
    "    data_genres = data.dropna(subset=['genres'])\n",
    "    # Eliminar usuarios nulos\n",
    "    data_genres = data_genres.dropna(subset=['user_id'])\n",
    "    # Filtramos por genero\n",
    "    data_genres = data_genres[data_genres['genres'].str.contains(genre)]\n",
    "    # Agrupamos por usuario y sumamos las horas jugadas\n",
    "    data_playtime = data_genres.groupby('user_id')['playtime_forever'].sum().reset_index()\n",
    "    # Obtenemos el usuario con mayor horas jugadas\n",
    "    user = data_playtime[data_playtime['playtime_forever'] == data_playtime['playtime_forever'].max()]['user_id'].values[0]\n",
    "    # Filtramos por usuario\n",
    "    data_user = data_genres[data_genres['user_id'] == user]\n",
    "    # Agrupamos por año y sumamos las horas jugadas\n",
    "    data_year = data_user.groupby('release_date')['playtime_forever'].sum().reset_index()\n",
    "    years = data_year.to_dict('records')\n",
    "    # Obtenemos el año con mayor horas jugadas\n",
    "    year = int(data_genres[data_genres['playtime_forever'] == data_genres['playtime_forever'].max()]['release_date'].values[0])\n",
    "    print(f\"'Usuario con más horas jugadas para Género {genre}': {user}, 'Horas jugadas': {years}\")\n",
    "UserForGenre('Action')"
   ]
  },
  {
   "cell_type": "code",
   "execution_count": 90,
   "metadata": {},
   "outputs": [
    {
     "data": {
      "text/plain": [
       "{'Top 3 de juegos MÁS recomendados por usuarios para el año': 2010,\n",
       " 'Top 3': [{'app_name': 'Just Cause 2', 'recommend': 16988},\n",
       "  {'app_name': \"Sid Meier's Civilization® V\", 'recommend': 14115},\n",
       "  {'app_name': 'Fallout: New Vegas', 'recommend': 13521}]}"
      ]
     },
     "execution_count": 90,
     "metadata": {},
     "output_type": "execute_result"
    }
   ],
   "source": [
    "# def UsersRecommend( año : int ): Devuelve el top 3 de juegos MÁS recomendados por usuarios para el año dado. (reviews.recommend = True y comentarios positivos/neutrales)\n",
    "# Ejemplo de retorno: [{\"Puesto 1\" : X}, {\"Puesto 2\" : Y},{\"Puesto 3\" : Z}]\n",
    "def UsersRecommend(year: int):\n",
    "    # Filtramos por año\n",
    "    data_year = data[data['release_date'] == year]\n",
    "    # Filtramos por recomendados\n",
    "    data_year = data_year[data_year['recommend'] == True]\n",
    "    # Filtramos por comentarios positivos/neutrales\n",
    "    data_year = data_year[data_year['sentiment'] > 0]\n",
    "    # Agrupamos por juego y contamos las recomendaciones\n",
    "    data_year = data_year.groupby('app_name')['recommend'].count().reset_index()\n",
    "    # Ordenamos de mayor a menor\n",
    "    data_year = data_year.sort_values(by='recommend', ascending=False)\n",
    "    # Obtenemos el top 3\n",
    "    top3 = data_year.head(3).to_dict('records')\n",
    "    return {'Top 3 de juegos MÁS recomendados por usuarios para el año': year, 'Top 3': top3}\n",
    "UsersRecommend(2010)\n"
   ]
  },
  {
   "cell_type": "code",
   "execution_count": 91,
   "metadata": {},
   "outputs": [
    {
     "data": {
      "text/plain": [
       "{'Top 3 de juegos MENOS recomendados por usuarios para el año': 2010,\n",
       " 'Top 3': [{'app_name': 'Just Cause 2', 'recommend': 1030},\n",
       "  {'app_name': 'Arma 2: Operation Arrowhead', 'recommend': 821},\n",
       "  {'app_name': \"Sid Meier's Civilization® V\", 'recommend': 793}]}"
      ]
     },
     "execution_count": 91,
     "metadata": {},
     "output_type": "execute_result"
    }
   ],
   "source": [
    "# def UsersNotRecommend( año : int ): Devuelve el top 3 de juegos MENOS recomendados por usuarios para el año dado. (reviews.recommend = False y comentarios negativos)\n",
    "# Ejemplo de retorno: [{\"Puesto 1\" : X}, {\"Puesto 2\" : Y},{\"Puesto 3\" : Z}]\n",
    "def UsersNotRecommend(year: int):\n",
    "    # Filtramos por año\n",
    "    data_year = data[data['release_date'] == year]\n",
    "    # Filtramos por no recomendados\n",
    "    data_year = data_year[data_year['recommend'] == False]\n",
    "    # Filtramos por comentarios negativos\n",
    "    data_year = data_year[data_year['sentiment'] == 0]\n",
    "    # Agrupamos por juego y contamos las recomendaciones\n",
    "    data_year = data_year.groupby('app_name')['recommend'].count().reset_index()\n",
    "    # Ordenamos de mayor a menor\n",
    "    data_year = data_year.sort_values(by='recommend', ascending=False)\n",
    "    # Obtenemos el top 3\n",
    "    top3 = data_year.head(3).to_dict('records')\n",
    "    return {'Top 3 de juegos MENOS recomendados por usuarios para el año': year, 'Top 3': top3}\n",
    "UsersNotRecommend(2010)"
   ]
  },
  {
   "cell_type": "code",
   "execution_count": 108,
   "metadata": {},
   "outputs": [
    {
     "data": {
      "text/plain": [
       "{'Según el año de lanzamiento': 2010,\n",
       " 'Sentimiento': {'Negative': 55083, 'Neutral': 164486, 'Positive': 168501}}"
      ]
     },
     "execution_count": 108,
     "metadata": {},
     "output_type": "execute_result"
    }
   ],
   "source": [
    "# def sentiment_analysis( año : int ): Según el año de lanzamiento, se devuelve una lista con la cantidad de registros de reseñas de usuarios que se encuentren categorizados con un análisis de sentimiento.\n",
    "# Ejemplo de retorno: {Negative = 182, Neutral = 120, Positive = 278}\n",
    "def sentiment_analysis(year: int):\n",
    "    # Filtramos por año\n",
    "    data_year = data[data['release_date'] == year]\n",
    "    # Agrupamos por sentimiento y contamos las reseñas\n",
    "    data_year = data_year.groupby('sentiment')['review'].count().reset_index()\n",
    "    # Obtenemos el top 3\n",
    "    sentiment = data_year.to_dict('records')\n",
    "    # Inicializar contadores\n",
    "    negative_count = 0\n",
    "    neutral_count = 0\n",
    "    positive_count = 0\n",
    "    # Contar el número de reseñas con cada sentimiento\n",
    "    for s in sentiment:\n",
    "        if s['sentiment'] == 0:\n",
    "            negative_count += s['review']\n",
    "        elif s['sentiment'] == 1:\n",
    "            neutral_count += s['review']\n",
    "        elif s['sentiment'] == 2:\n",
    "            positive_count += s['review']\n",
    "    # Crear el diccionario con los contadores\n",
    "    sentiment = {'Negative': negative_count, 'Neutral': neutral_count, 'Positive': positive_count}\n",
    "    return {'Según el año de lanzamiento': year, 'Sentimiento': sentiment}\n",
    "sentiment_analysis(2010)"
   ]
  }
 ],
 "metadata": {
  "kernelspec": {
   "display_name": "Python 3",
   "language": "python",
   "name": "python3"
  },
  "language_info": {
   "codemirror_mode": {
    "name": "ipython",
    "version": 3
   },
   "file_extension": ".py",
   "mimetype": "text/x-python",
   "name": "python",
   "nbconvert_exporter": "python",
   "pygments_lexer": "ipython3",
   "version": "3.10.0"
  }
 },
 "nbformat": 4,
 "nbformat_minor": 2
}
